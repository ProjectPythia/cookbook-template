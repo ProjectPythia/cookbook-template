{
 "cells": [
  {
   "cell_type": "markdown",
   "metadata": {},
   "source": [
    "<img src=\"images/logos/ncar_pythia.png\" alt=\"pythia ncar\" />\n",
    "\n",
    "**This notebook is developed during the pythia cook-off at NCAR Mesa-Lab Boulder Colorado, June 12-14, 2024**\n",
    "\n",
    "Participants in the workshop event have the chance to practice collaborative problem-solving and hands-on learning in the field of Python programming.\n",
    "\n",
    "This notebook is part of the **Breakout Topic: Geostationary on AWS**, lead by **Jorge Humberto Bravo Mendez** jbravo2@stevens.edu, from Stevens Institute of Technology "
   ]
  },
  {
   "cell_type": "markdown",
   "metadata": {},
   "source": [
    "# This notebook is used to download the data that will be used in the other notebooks\n"
   ]
  },
  {
   "cell_type": "markdown",
   "metadata": {},
   "source": [
    "---"
   ]
  },
  {
   "cell_type": "code",
   "execution_count": null,
   "metadata": {},
   "outputs": [],
   "source": [
    "import requests\n",
    "import os\n",
    "\n",
    "def download_data(local_directory):\n",
    "    # Ensure that the local directory exists; create it if it doesn't.\n",
    "    os.makedirs(local_directory, exist_ok=True)\n",
    "\n",
    "    # Iterate through the URLs and download files.\n",
    "    for urld in urls2dwn:\n",
    "        # Extract the filename from the URL.\n",
    "        ntw = urld.split('/')[-1]\n",
    "\n",
    "        # Construct the complete path to save the file in the local directory.\n",
    "        file_path = os.path.join(local_directory, ntw)\n",
    "\n",
    "        # Send an HTTP GET request to the URL.\n",
    "        resp = requests.get(urld)\n",
    "\n",
    "        # Check if the response is successful (status code 200).\n",
    "        if resp.status_code == 200:\n",
    "            # Write the content to the file in binary mode.\n",
    "            with open(file_path, \"wb\") as file:\n",
    "                file.write(resp.content)\n",
    "            print(f\"File '{ntw}' downloaded and saved to '{local_directory}'.\")\n",
    "        else:\n",
    "            print(f\"Failed to download '{ntw}' from the URL: {urld}\")"
   ]
  },
  {
   "cell_type": "markdown",
   "metadata": {},
   "source": [
    "## GOES east"
   ]
  },
  {
   "cell_type": "code",
   "execution_count": null,
   "metadata": {},
   "outputs": [],
   "source": [
    "### List of files to download for testing\n",
    "urls2dwn = [ \n",
    "  'https://noaa-goes16.s3.amazonaws.com/ABI-L1b-RadC/2023/256/15/OR_ABI-L1b-RadC-M6C01_G16_s20232561536173_e20232561538548_c20232561538585.nc',\n",
    "  'https://noaa-goes16.s3.amazonaws.com/ABI-L1b-RadC/2023/256/15/OR_ABI-L1b-RadC-M6C02_G16_s20232561536173_e20232561538546_c20232561538578.nc',\n",
    "  'https://noaa-goes16.s3.amazonaws.com/ABI-L1b-RadC/2023/256/15/OR_ABI-L1b-RadC-M6C03_G16_s20232561536173_e20232561538546_c20232561538589.nc',\n",
    "  'https://noaa-goes16.s3.amazonaws.com/ABI-L1b-RadC/2023/256/15/OR_ABI-L1b-RadC-M6C04_G16_s20232561536173_e20232561538546_c20232561539001.nc',\n",
    "  'https://noaa-goes16.s3.amazonaws.com/ABI-L1b-RadC/2023/256/15/OR_ABI-L1b-RadC-M6C05_G16_s20232561536173_e20232561538546_c20232561539016.nc',\n",
    "  'https://noaa-goes16.s3.amazonaws.com/ABI-L1b-RadC/2023/256/15/OR_ABI-L1b-RadC-M6C06_G16_s20232561536173_e20232561538551_c20232561539011.nc',\n",
    "  'https://noaa-goes16.s3.amazonaws.com/ABI-L1b-RadC/2023/256/15/OR_ABI-L1b-RadC-M6C07_G16_s20232561536173_e20232561538557_c20232561539026.nc',\n",
    "  'https://noaa-goes16.s3.amazonaws.com/ABI-L1b-RadC/2023/256/15/OR_ABI-L1b-RadC-M6C08_G16_s20232561536173_e20232561538546_c20232561538598.nc',\n",
    "  'https://noaa-goes16.s3.amazonaws.com/ABI-L1b-RadC/2023/256/15/OR_ABI-L1b-RadC-M6C09_G16_s20232561536173_e20232561538551_c20232561538580.nc',\n",
    "  'https://noaa-goes16.s3.amazonaws.com/ABI-L1b-RadC/2023/256/15/OR_ABI-L1b-RadC-M6C10_G16_s20232561536173_e20232561538557_c20232561539020.nc',\n",
    "  'https://noaa-goes16.s3.amazonaws.com/ABI-L1b-RadC/2023/256/15/OR_ABI-L1b-RadC-M6C11_G16_s20232561536173_e20232561538546_c20232561539034.nc',\n",
    "  'https://noaa-goes16.s3.amazonaws.com/ABI-L1b-RadC/2023/256/15/OR_ABI-L1b-RadC-M6C12_G16_s20232561536173_e20232561538552_c20232561539031.nc',\n",
    "  'https://noaa-goes16.s3.amazonaws.com/ABI-L1b-RadC/2023/256/15/OR_ABI-L1b-RadC-M6C13_G16_s20232561536173_e20232561538557_c20232561539004.nc',\n",
    "  'https://noaa-goes16.s3.amazonaws.com/ABI-L1b-RadC/2023/256/15/OR_ABI-L1b-RadC-M6C14_G16_s20232561536173_e20232561538546_c20232561538592.nc',\n",
    "  'https://noaa-goes16.s3.amazonaws.com/ABI-L1b-RadC/2023/256/15/OR_ABI-L1b-RadC-M6C15_G16_s20232561536173_e20232561538551_c20232561539007.nc',\n",
    "  'https://noaa-goes16.s3.amazonaws.com/ABI-L1b-RadC/2023/256/15/OR_ABI-L1b-RadC-M6C16_G16_s20232561536173_e20232561538557_c20232561539036.nc']"
   ]
  },
  {
   "cell_type": "code",
   "execution_count": null,
   "metadata": {},
   "outputs": [],
   "source": [
    "goes_east_dir = \"input/G16_ABI-L1b-RadC\"\n",
    "download_data(goes_east_dir)"
   ]
  },
  {
   "cell_type": "markdown",
   "metadata": {},
   "source": [
    "## GOES west"
   ]
  },
  {
   "cell_type": "code",
   "execution_count": null,
   "metadata": {},
   "outputs": [],
   "source": [
    "### List of files to download for testing\n",
    "urls2dwn = [ \n",
    "  'https://noaa-goes18.s3.amazonaws.com/ABI-L1b-RadC/2023/004/18/OR_ABI-L1b-RadC-M6C01_G18_s20230041816176_e20230041818551_c20230041818587.nc',\n",
    "  'https://noaa-goes18.s3.amazonaws.com/ABI-L1b-RadC/2023/004/18/OR_ABI-L1b-RadC-M6C02_G18_s20230041816176_e20230041818549_c20230041818582.nc',\n",
    "  'https://noaa-goes18.s3.amazonaws.com/ABI-L1b-RadC/2023/004/18/OR_ABI-L1b-RadC-M6C03_G18_s20230041816176_e20230041818550_c20230041818584.nc',\n",
    "  'https://noaa-goes18.s3.amazonaws.com/ABI-L1b-RadC/2023/004/18/OR_ABI-L1b-RadC-M6C04_G18_s20230041816176_e20230041818549_c20230041818580.nc',\n",
    "  'https://noaa-goes18.s3.amazonaws.com/ABI-L1b-RadC/2023/004/18/OR_ABI-L1b-RadC-M6C05_G18_s20230041816176_e20230041818550_c20230041819005.nc',\n",
    "  'https://noaa-goes18.s3.amazonaws.com/ABI-L1b-RadC/2023/004/18/OR_ABI-L1b-RadC-M6C06_G18_s20230041816176_e20230041818555_c20230041819032.nc',\n",
    "  'https://noaa-goes18.s3.amazonaws.com/ABI-L1b-RadC/2023/004/18/OR_ABI-L1b-RadC-M6C07_G18_s20230041816176_e20230041818562_c20230041818592.nc',\n",
    "  'https://noaa-goes18.s3.amazonaws.com/ABI-L1b-RadC/2023/004/18/OR_ABI-L1b-RadC-M6C08_G18_s20230041816176_e20230041818549_c20230041818599.nc',\n",
    "  'https://noaa-goes18.s3.amazonaws.com/ABI-L1b-RadC/2023/004/18/OR_ABI-L1b-RadC-M6C09_G18_s20230041816176_e20230041818555_c20230041819014.nc',\n",
    "  'https://noaa-goes18.s3.amazonaws.com/ABI-L1b-RadC/2023/004/18/OR_ABI-L1b-RadC-M6C10_G18_s20230041816176_e20230041818563_c20230041819021.nc',\n",
    "  'https://noaa-goes18.s3.amazonaws.com/ABI-L1b-RadC/2023/004/18/OR_ABI-L1b-RadC-M6C11_G18_s20230041816176_e20230041818549_c20230041818594.nc',\n",
    "  'https://noaa-goes18.s3.amazonaws.com/ABI-L1b-RadC/2023/004/18/OR_ABI-L1b-RadC-M6C12_G18_s20230041816176_e20230041818555_c20230041819009.nc',\n",
    "  'https://noaa-goes18.s3.amazonaws.com/ABI-L1b-RadC/2023/004/18/OR_ABI-L1b-RadC-M6C13_G18_s20230041816176_e20230041818561_c20230041819034.nc',\n",
    "  'https://noaa-goes18.s3.amazonaws.com/ABI-L1b-RadC/2023/004/18/OR_ABI-L1b-RadC-M6C14_G18_s20230041816176_e20230041818549_c20230041819017.nc',\n",
    "  'https://noaa-goes18.s3.amazonaws.com/ABI-L1b-RadC/2023/004/18/OR_ABI-L1b-RadC-M6C15_G18_s20230041816176_e20230041818555_c20230041819030.nc',\n",
    "  'https://noaa-goes18.s3.amazonaws.com/ABI-L1b-RadC/2023/004/18/OR_ABI-L1b-RadC-M6C16_G18_s20230041816176_e20230041818561_c20230041819025.nc']"
   ]
  },
  {
   "cell_type": "code",
   "execution_count": null,
   "metadata": {},
   "outputs": [],
   "source": [
    "goes_west_dir = \"input/G18_ABI-L1b-RadC\"\n",
    "download_data(goes_west_dir)"
   ]
  },
  {
   "cell_type": "markdown",
   "metadata": {},
   "source": [
    "## HIMAWARI"
   ]
  },
  {
   "cell_type": "code",
   "execution_count": null,
   "metadata": {},
   "outputs": [],
   "source": [
    "### List of files to download for testing\n",
    "urls2dwn = [\n",
    "  'https://noaa-himawari9.s3.amazonaws.com/AHI-L1b-Japan/2023/08/15/0430/HS_H09_20230815_0430_B01_JP02_R10_S0101.DAT.bz2',\n",
    "  'https://noaa-himawari9.s3.amazonaws.com/AHI-L1b-Japan/2023/08/15/0430/HS_H09_20230815_0430_B02_JP02_R10_S0101.DAT.bz2',\n",
    "  'https://noaa-himawari9.s3.amazonaws.com/AHI-L1b-Japan/2023/08/15/0430/HS_H09_20230815_0430_B03_JP02_R05_S0101.DAT.bz2',\n",
    "  'https://noaa-himawari9.s3.amazonaws.com/AHI-L1b-Japan/2023/08/15/0430/HS_H09_20230815_0430_B04_JP02_R10_S0101.DAT.bz2',\n",
    "  'https://noaa-himawari9.s3.amazonaws.com/AHI-L1b-Japan/2023/08/15/0430/HS_H09_20230815_0430_B05_JP02_R20_S0101.DAT.bz2',\n",
    "  'https://noaa-himawari9.s3.amazonaws.com/AHI-L1b-Japan/2023/08/15/0430/HS_H09_20230815_0430_B06_JP02_R20_S0101.DAT.bz2',\n",
    "  'https://noaa-himawari9.s3.amazonaws.com/AHI-L1b-Japan/2023/08/15/0430/HS_H09_20230815_0430_B07_JP02_R20_S0101.DAT.bz2',\n",
    "  'https://noaa-himawari9.s3.amazonaws.com/AHI-L1b-Japan/2023/08/15/0430/HS_H09_20230815_0430_B08_JP02_R20_S0101.DAT.bz2',\n",
    "  'https://noaa-himawari9.s3.amazonaws.com/AHI-L1b-Japan/2023/08/15/0430/HS_H09_20230815_0430_B09_JP02_R20_S0101.DAT.bz2',\n",
    "  'https://noaa-himawari9.s3.amazonaws.com/AHI-L1b-Japan/2023/08/15/0430/HS_H09_20230815_0430_B10_JP02_R20_S0101.DAT.bz2',\n",
    "  'https://noaa-himawari9.s3.amazonaws.com/AHI-L1b-Japan/2023/08/15/0430/HS_H09_20230815_0430_B11_JP02_R20_S0101.DAT.bz2',\n",
    "  'https://noaa-himawari9.s3.amazonaws.com/AHI-L1b-Japan/2023/08/15/0430/HS_H09_20230815_0430_B12_JP02_R20_S0101.DAT.bz2',\n",
    "  'https://noaa-himawari9.s3.amazonaws.com/AHI-L1b-Japan/2023/08/15/0430/HS_H09_20230815_0430_B13_JP02_R20_S0101.DAT.bz2',\n",
    "  'https://noaa-himawari9.s3.amazonaws.com/AHI-L1b-Japan/2023/08/15/0430/HS_H09_20230815_0430_B14_JP02_R20_S0101.DAT.bz2',\n",
    "  'https://noaa-himawari9.s3.amazonaws.com/AHI-L1b-Japan/2023/08/15/0430/HS_H09_20230815_0430_B15_JP02_R20_S0101.DAT.bz2',\n",
    "  'https://noaa-himawari9.s3.amazonaws.com/AHI-L1b-Japan/2023/08/15/0430/HS_H09_20230815_0430_B16_JP02_R20_S0101.DAT.bz2']"
   ]
  },
  {
   "cell_type": "code",
   "execution_count": null,
   "metadata": {},
   "outputs": [],
   "source": [
    "himawari_dir = \"input/HI9_AHI_L1b_JP\"\n",
    "download_data(himawari_dir)"
   ]
  },
  {
   "cell_type": "markdown",
   "metadata": {},
   "source": [
    "## GK2A"
   ]
  },
  {
   "cell_type": "code",
   "execution_count": null,
   "metadata": {},
   "outputs": [],
   "source": [
    "### List of files to download for testing\n",
    "urls2dwn = [\n",
    "  'https://noaa-gk2a-pds.s3.amazonaws.com/AMI/L1B/LA/202308/09/00/gk2a_ami_le1b_ir087_la020ge_202308090034.nc',\n",
    "  'https://noaa-gk2a-pds.s3.amazonaws.com/AMI/L1B/LA/202308/09/00/gk2a_ami_le1b_ir096_la020ge_202308090034.nc',\n",
    "  'https://noaa-gk2a-pds.s3.amazonaws.com/AMI/L1B/LA/202308/09/00/gk2a_ami_le1b_ir105_la020ge_202308090034.nc',\n",
    "  'https://noaa-gk2a-pds.s3.amazonaws.com/AMI/L1B/LA/202308/09/00/gk2a_ami_le1b_ir112_la020ge_202308090034.nc',\n",
    "  'https://noaa-gk2a-pds.s3.amazonaws.com/AMI/L1B/LA/202308/09/00/gk2a_ami_le1b_ir123_la020ge_202308090034.nc',\n",
    "  'https://noaa-gk2a-pds.s3.amazonaws.com/AMI/L1B/LA/202308/09/00/gk2a_ami_le1b_ir133_la020ge_202308090034.nc',\n",
    "  'https://noaa-gk2a-pds.s3.amazonaws.com/AMI/L1B/LA/202308/09/00/gk2a_ami_le1b_nr013_la020ge_202308090034.nc',\n",
    "  'https://noaa-gk2a-pds.s3.amazonaws.com/AMI/L1B/LA/202308/09/00/gk2a_ami_le1b_nr016_la020ge_202308090034.nc',\n",
    "  'https://noaa-gk2a-pds.s3.amazonaws.com/AMI/L1B/LA/202308/09/00/gk2a_ami_le1b_sw038_la020ge_202308090034.nc',\n",
    "  'https://noaa-gk2a-pds.s3.amazonaws.com/AMI/L1B/LA/202308/09/00/gk2a_ami_le1b_vi004_la010ge_202308090034.nc',\n",
    "  'https://noaa-gk2a-pds.s3.amazonaws.com/AMI/L1B/LA/202308/09/00/gk2a_ami_le1b_vi005_la010ge_202308090034.nc',\n",
    "  'https://noaa-gk2a-pds.s3.amazonaws.com/AMI/L1B/LA/202308/09/00/gk2a_ami_le1b_vi006_la005ge_202308090034.nc',\n",
    "  'https://noaa-gk2a-pds.s3.amazonaws.com/AMI/L1B/LA/202308/09/00/gk2a_ami_le1b_vi008_la010ge_202308090034.nc',\n",
    "  'https://noaa-gk2a-pds.s3.amazonaws.com/AMI/L1B/LA/202308/09/00/gk2a_ami_le1b_wv063_la020ge_202308090034.nc',\n",
    "  'https://noaa-gk2a-pds.s3.amazonaws.com/AMI/L1B/LA/202308/09/00/gk2a_ami_le1b_wv069_la020ge_202308090034.nc',\n",
    "  'https://noaa-gk2a-pds.s3.amazonaws.com/AMI/L1B/LA/202308/09/00/gk2a_ami_le1b_wv073_la020ge_202308090034.nc']"
   ]
  },
  {
   "cell_type": "code",
   "execution_count": null,
   "metadata": {},
   "outputs": [],
   "source": [
    "gk2a_dir = \"input/GK2A_AMI_L1B_LA\"\n",
    "download_data(gk2a_dir)"
   ]
  },
  {
   "cell_type": "markdown",
   "metadata": {},
   "source": [
    "## HIMAWARI Filldisk"
   ]
  },
  {
   "cell_type": "code",
   "execution_count": null,
   "metadata": {},
   "outputs": [],
   "source": [
    "### List of files to download for testing\n",
    "urls2dwn = [\n",
    "  'https://noaa-himawari9.s3.amazonaws.com/AHI-L1b-FLDK/2023/08/15/0430/HS_H09_20230815_0430_B01_FLDK_R10_S0810.DAT.bz2',\n",
    "  'https://noaa-himawari9.s3.amazonaws.com/AHI-L1b-FLDK/2023/08/15/0430/HS_H09_20230815_0430_B02_FLDK_R10_S0810.DAT.bz2',\n",
    "  'https://noaa-himawari9.s3.amazonaws.com/AHI-L1b-FLDK/2023/08/15/0430/HS_H09_20230815_0430_B03_FLDK_R05_S0810.DAT.bz2',\n",
    "  'https://noaa-himawari9.s3.amazonaws.com/AHI-L1b-FLDK/2023/08/15/0430/HS_H09_20230815_0430_B04_FLDK_R10_S0810.DAT.bz2',\n",
    "  'https://noaa-himawari9.s3.amazonaws.com/AHI-L1b-FLDK/2023/08/15/0430/HS_H09_20230815_0430_B05_FLDK_R20_S0810.DAT.bz2',\n",
    "  'https://noaa-himawari9.s3.amazonaws.com/AHI-L1b-FLDK/2023/08/15/0430/HS_H09_20230815_0430_B06_FLDK_R20_S0810.DAT.bz2',\n",
    "  'https://noaa-himawari9.s3.amazonaws.com/AHI-L1b-FLDK/2023/08/15/0430/HS_H09_20230815_0430_B07_FLDK_R20_S0810.DAT.bz2',\n",
    "  'https://noaa-himawari9.s3.amazonaws.com/AHI-L1b-FLDK/2023/08/15/0430/HS_H09_20230815_0430_B08_FLDK_R20_S0810.DAT.bz2',\n",
    "  'https://noaa-himawari9.s3.amazonaws.com/AHI-L1b-FLDK/2023/08/15/0430/HS_H09_20230815_0430_B09_FLDK_R20_S0810.DAT.bz2',\n",
    "  'https://noaa-himawari9.s3.amazonaws.com/AHI-L1b-FLDK/2023/08/15/0430/HS_H09_20230815_0430_B10_FLDK_R20_S0810.DAT.bz2',\n",
    "  'https://noaa-himawari9.s3.amazonaws.com/AHI-L1b-FLDK/2023/08/15/0430/HS_H09_20230815_0430_B11_FLDK_R20_S0810.DAT.bz2',\n",
    "  'https://noaa-himawari9.s3.amazonaws.com/AHI-L1b-FLDK/2023/08/15/0430/HS_H09_20230815_0430_B12_FLDK_R20_S0810.DAT.bz2',\n",
    "  'https://noaa-himawari9.s3.amazonaws.com/AHI-L1b-FLDK/2023/08/15/0430/HS_H09_20230815_0430_B13_FLDK_R20_S0810.DAT.bz2',\n",
    "  'https://noaa-himawari9.s3.amazonaws.com/AHI-L1b-FLDK/2023/08/15/0430/HS_H09_20230815_0430_B14_FLDK_R20_S0810.DAT.bz2',\n",
    "  'https://noaa-himawari9.s3.amazonaws.com/AHI-L1b-FLDK/2023/08/15/0430/HS_H09_20230815_0430_B15_FLDK_R20_S0810.DAT.bz2',\n",
    "  'https://noaa-himawari9.s3.amazonaws.com/AHI-L1b-FLDK/2023/08/15/0430/HS_H09_20230815_0430_B16_FLDK_R20_S0810.DAT.bz2']"
   ]
  },
  {
   "cell_type": "code",
   "execution_count": null,
   "metadata": {},
   "outputs": [],
   "source": [
    "himawari_dir = \"input/HI9_AHI_L1b_FLDK\"\n",
    "download_data(himawari_dir)"
   ]
  },
  {
   "cell_type": "markdown",
   "metadata": {},
   "source": [
    "## GK2A Fulldisk"
   ]
  },
  {
   "cell_type": "code",
   "execution_count": null,
   "metadata": {},
   "outputs": [],
   "source": [
    "### List of files to download for testing\n",
    "urls2dwn = [\n",
    "  'https://noaa-gk2a-pds.s3.amazonaws.com/AMI/L1B/FD/202308/09/00/gk2a_ami_le1b_ir087_fd020ge_202308090010.nc',\n",
    "  'https://noaa-gk2a-pds.s3.amazonaws.com/AMI/L1B/FD/202308/09/00/gk2a_ami_le1b_ir096_fd020ge_202308090010.nc',\n",
    "  'https://noaa-gk2a-pds.s3.amazonaws.com/AMI/L1B/FD/202308/09/00/gk2a_ami_le1b_ir105_fd020ge_202308090010.nc',\n",
    "  'https://noaa-gk2a-pds.s3.amazonaws.com/AMI/L1B/FD/202308/09/00/gk2a_ami_le1b_ir112_fd020ge_202308090010.nc',\n",
    "  'https://noaa-gk2a-pds.s3.amazonaws.com/AMI/L1B/FD/202308/09/00/gk2a_ami_le1b_ir123_fd020ge_202308090010.nc',\n",
    "  'https://noaa-gk2a-pds.s3.amazonaws.com/AMI/L1B/FD/202308/09/00/gk2a_ami_le1b_ir133_fd020ge_202308090010.nc',\n",
    "  'https://noaa-gk2a-pds.s3.amazonaws.com/AMI/L1B/FD/202308/09/00/gk2a_ami_le1b_nr013_fd020ge_202308090010.nc',\n",
    "  'https://noaa-gk2a-pds.s3.amazonaws.com/AMI/L1B/FD/202308/09/00/gk2a_ami_le1b_nr016_fd020ge_202308090010.nc',\n",
    "  'https://noaa-gk2a-pds.s3.amazonaws.com/AMI/L1B/FD/202308/09/00/gk2a_ami_le1b_sw038_fd020ge_202308090010.nc',\n",
    "  'https://noaa-gk2a-pds.s3.amazonaws.com/AMI/L1B/FD/202308/09/00/gk2a_ami_le1b_vi004_fd010ge_202308090010.nc',\n",
    "  'https://noaa-gk2a-pds.s3.amazonaws.com/AMI/L1B/FD/202308/09/00/gk2a_ami_le1b_vi005_fd010ge_202308090010.nc',\n",
    "  'https://noaa-gk2a-pds.s3.amazonaws.com/AMI/L1B/FD/202308/09/00/gk2a_ami_le1b_vi006_fd005ge_202308090010.nc',\n",
    "  'https://noaa-gk2a-pds.s3.amazonaws.com/AMI/L1B/FD/202308/09/00/gk2a_ami_le1b_vi008_fd010ge_202308090010.nc',\n",
    "  'https://noaa-gk2a-pds.s3.amazonaws.com/AMI/L1B/FD/202308/09/00/gk2a_ami_le1b_wv063_fd020ge_202308090010.nc',\n",
    "  'https://noaa-gk2a-pds.s3.amazonaws.com/AMI/L1B/FD/202308/09/00/gk2a_ami_le1b_wv069_fd020ge_202308090010.nc',\n",
    "  'https://noaa-gk2a-pds.s3.amazonaws.com/AMI/L1B/FD/202308/09/00/gk2a_ami_le1b_wv073_fd020ge_202308090010.nc']"
   ]
  },
  {
   "cell_type": "code",
   "execution_count": null,
   "metadata": {},
   "outputs": [],
   "source": [
    "gk2a_dir = \"input/GK2A_AMI_L1B_FD\"\n",
    "download_data(gk2a_dir)"
   ]
  },
  {
   "cell_type": "markdown",
   "metadata": {},
   "source": [
    "## GOES16 Fulldisk"
   ]
  },
  {
   "cell_type": "code",
   "execution_count": null,
   "metadata": {},
   "outputs": [],
   "source": [
    "['ABI-L1b-RadF/2023/256/15/OR_ABI-L1b-RadF-M6C01_G16_s20232561550207_e20232561559515_c20232561559554.nc',\n",
    "  'ABI-L1b-RadF/2023/256/15/OR_ABI-L1b-RadF-M6C02_G16_s20232561550207_e20232561559515_c20232561559562.nc',\n",
    "  'ABI-L1b-RadF/2023/256/15/OR_ABI-L1b-RadF-M6C03_G16_s20232561550207_e20232561559515_c20232561559569.nc',\n",
    "  'ABI-L1b-RadF/2023/256/15/OR_ABI-L1b-RadF-M6C04_G16_s20232561550207_e20232561559515_c20232561559532.nc',\n",
    "  'ABI-L1b-RadF/2023/256/15/OR_ABI-L1b-RadF-M6C05_G16_s20232561550207_e20232561559515_c20232561559575.nc',\n",
    "  'ABI-L1b-RadF/2023/256/15/OR_ABI-L1b-RadF-M6C06_G16_s20232561550207_e20232561559521_c20232561559547.nc',\n",
    "  'ABI-L1b-RadF/2023/256/15/OR_ABI-L1b-RadF-M6C07_G16_s20232561550207_e20232561559527_c20232561559558.nc',\n",
    "  'ABI-L1b-RadF/2023/256/15/OR_ABI-L1b-RadF-M6C08_G16_s20232561550207_e20232561559515_c20232561559566.nc',\n",
    "  'ABI-L1b-RadF/2023/256/15/OR_ABI-L1b-RadF-M6C09_G16_s20232561550207_e20232561559521_c20232561559560.nc',\n",
    "  'ABI-L1b-RadF/2023/256/15/OR_ABI-L1b-RadF-M6C10_G16_s20232561550207_e20232561559527_c20232561559563.nc',\n",
    "  'ABI-L1b-RadF/2023/256/15/OR_ABI-L1b-RadF-M6C11_G16_s20232561550207_e20232561559515_c20232561559566.nc',\n",
    "  'ABI-L1b-RadF/2023/256/15/OR_ABI-L1b-RadF-M6C12_G16_s20232561550207_e20232561559521_c20232561559548.nc',\n",
    "  'ABI-L1b-RadF/2023/256/15/OR_ABI-L1b-RadF-M6C13_G16_s20232561550207_e20232561559527_c20232561559577.nc',\n",
    "  'ABI-L1b-RadF/2023/256/15/OR_ABI-L1b-RadF-M6C14_G16_s20232561550207_e20232561559515_c20232561559571.nc',\n",
    "  'ABI-L1b-RadF/2023/256/15/OR_ABI-L1b-RadF-M6C15_G16_s20232561550207_e20232561559521_c20232561559583.nc',\n",
    "  'ABI-L1b-RadF/2023/256/15/OR_ABI-L1b-RadF-M6C16_G16_s20232561550207_e20232561559529_c20232561559574.nc'],"
   ]
  },
  {
   "cell_type": "code",
   "execution_count": null,
   "metadata": {},
   "outputs": [],
   "source": [
    "goes_east_dir = \"input/G16_ABI-L1b-RadF\"\n",
    "download_data(goes_east_dir)"
   ]
  },
  {
   "cell_type": "markdown",
   "metadata": {},
   "source": [
    "## GOES18 Fulldisk"
   ]
  },
  {
   "cell_type": "code",
   "execution_count": null,
   "metadata": {},
   "outputs": [],
   "source": [
    "['ABI-L1b-RadF/2023/004/18/OR_ABI-L1b-RadF-M6C01_G18_s20230041850211_e20230041859519_c20230041859566.nc',\n",
    "  'ABI-L1b-RadF/2023/004/18/OR_ABI-L1b-RadF-M6C02_G18_s20230041850211_e20230041859519_c20230041859541.nc',\n",
    "  'ABI-L1b-RadF/2023/004/18/OR_ABI-L1b-RadF-M6C03_G18_s20230041850211_e20230041859519_c20230041859561.nc',\n",
    "  'ABI-L1b-RadF/2023/004/18/OR_ABI-L1b-RadF-M6C04_G18_s20230041850211_e20230041859519_c20230041859556.nc',\n",
    "  'ABI-L1b-RadF/2023/004/18/OR_ABI-L1b-RadF-M6C05_G18_s20230041850211_e20230041859519_c20230041859568.nc',\n",
    "  'ABI-L1b-RadF/2023/004/18/OR_ABI-L1b-RadF-M6C06_G18_s20230041850211_e20230041859525_c20230041859553.nc',\n",
    "  'ABI-L1b-RadF/2023/004/18/OR_ABI-L1b-RadF-M6C07_G18_s20230041850211_e20230041859533_c20230041859574.nc',\n",
    "  'ABI-L1b-RadF/2023/004/18/OR_ABI-L1b-RadF-M6C08_G18_s20230041850211_e20230041859519_c20230041859572.nc',\n",
    "  'ABI-L1b-RadF/2023/004/18/OR_ABI-L1b-RadF-M6C09_G18_s20230041850211_e20230041859524_c20230041859575.nc',\n",
    "  'ABI-L1b-RadF/2023/004/18/OR_ABI-L1b-RadF-M6C10_G18_s20230041850211_e20230041859530_c20230041859558.nc',\n",
    "  'ABI-L1b-RadF/2023/004/18/OR_ABI-L1b-RadF-M6C11_G18_s20230041850211_e20230041859519_c20230041859580.nc',\n",
    "  'ABI-L1b-RadF/2023/004/18/OR_ABI-L1b-RadF-M6C12_G18_s20230041850211_e20230041859524_c20230041859570.nc',\n",
    "  'ABI-L1b-RadF/2023/004/18/OR_ABI-L1b-RadF-M6C13_G18_s20230041850211_e20230041859533_c20230041859568.nc',\n",
    "  'ABI-L1b-RadF/2023/004/18/OR_ABI-L1b-RadF-M6C14_G18_s20230041850211_e20230041859519_c20230041859583.nc',\n",
    "  'ABI-L1b-RadF/2023/004/18/OR_ABI-L1b-RadF-M6C15_G18_s20230041850211_e20230041859525_c20230041859578.nc',\n",
    "  'ABI-L1b-RadF/2023/004/18/OR_ABI-L1b-RadF-M6C16_G18_s20230041850211_e20230041859531_c20230041859564.nc'],"
   ]
  },
  {
   "cell_type": "code",
   "execution_count": null,
   "metadata": {},
   "outputs": [],
   "source": [
    "goes_west_dir = \"input/G18_ABI-L1b-RadF\"\n",
    "download_data(goes_west_dir)"
   ]
  }
 ],
 "metadata": {
  "kernelspec": {
   "display_name": "Python 3 (ipykernel)",
   "language": "python",
   "name": "python3"
  },
  "language_info": {
   "codemirror_mode": {
    "name": "ipython",
    "version": 3
   },
   "file_extension": ".py",
   "mimetype": "text/x-python",
   "name": "python",
   "nbconvert_exporter": "python",
   "pygments_lexer": "ipython3",
   "version": "3.8.18"
  },
  "nbdime-conflicts": {
   "local_diff": [
    {
     "diff": [
      {
       "diff": [
        {
         "key": 0,
         "op": "addrange",
         "valuelist": [
          "Python 3"
         ]
        },
        {
         "key": 0,
         "length": 1,
         "op": "removerange"
        }
       ],
       "key": "display_name",
       "op": "patch"
      }
     ],
     "key": "kernelspec",
     "op": "patch"
    }
   ],
   "remote_diff": [
    {
     "diff": [
      {
       "diff": [
        {
         "key": 0,
         "op": "addrange",
         "valuelist": [
          "Python3"
         ]
        },
        {
         "key": 0,
         "length": 1,
         "op": "removerange"
        }
       ],
       "key": "display_name",
       "op": "patch"
      }
     ],
     "key": "kernelspec",
     "op": "patch"
    }
   ]
  },
  "toc-autonumbering": false
 },
 "nbformat": 4,
 "nbformat_minor": 4
}
