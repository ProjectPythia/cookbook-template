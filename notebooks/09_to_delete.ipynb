{
 "cells": [
  {
   "cell_type": "markdown",
   "metadata": {},
   "source": [
    "<img src=\"/notebooks/images/logos/ncar_pythia.png\" alt=\"pythia ncar\" />\n",
    "\n",
    "**This notebook is developed during the pythia cook-off at NCAR Mesa-Lab Boulder Colorado, June 12-14, 2024**\n",
    "\n",
    "Participants in the workshop event have the chance to practice collaborative problem-solving and hands-on learning in the field of Python programming.\n",
    "\n",
    "This notebook is part of the **Breakout Topic: Geostationary on AWS**, lead by **Jorge Humberto Bravo Mendez** jbravo2@stevens.edu, from Stevens Institute of Technology "
   ]
  },
  {
   "cell_type": "markdown",
   "metadata": {},
   "source": [
    "# Advance Meteorological Imager (AMI) data with Satpy\n",
    "\n",
    "\n",
    "Using Satpy to read and  Advanced Baseline Imager (ABI) data from GOES-R satellites. Here's a step-by-step guide:"
   ]
  },
  {
   "cell_type": "markdown",
   "metadata": {},
   "source": [
    "---"
   ]
  },
  {
   "cell_type": "markdown",
   "metadata": {},
   "source": [
    "## Imports"
   ]
  },
  {
   "cell_type": "code",
   "execution_count": 9,
   "metadata": {},
   "outputs": [],
   "source": [
    "import warnings\n",
    "warnings.filterwarnings('ignore')\n",
    "warnings.simplefilter('ignore', SyntaxWarning)\n",
    "\n",
    "from satpy.scene import Scene\n",
    "from pyresample.geometry import AreaDefinition\n",
    "from satpy.utils import debug_on\n",
    "\n",
    "from datetime import datetime\n",
    "\n",
    "from glob import glob"
   ]
  },
  {
   "cell_type": "markdown",
   "metadata": {},
   "source": [
    "## Starting to create satpy scenes"
   ]
  },
  {
   "cell_type": "code",
   "execution_count": null,
   "metadata": {},
   "outputs": [],
   "source": [
    "ami_files = glob(\"input/GK2A_AMI_L1B_FD/*\")\n",
    "# sat_files\n",
    "scn = Scene(filenames = ami_files, reader='ami_l1b')\n",
    "dataset_names = scn.all_dataset_names()\n",
    "# scn.load(dataset_names)\n",
    "scn.load(['VI004', 'VI005', 'VI006', 'VI008','IR133'])"
   ]
  },
  {
   "cell_type": "code",
   "execution_count": 12,
   "metadata": {},
   "outputs": [],
   "source": [
    "ami_2km = scn['IR133'].area\n",
    "ami_2km"
   ]
  },
  {
   "cell_type": "code",
   "execution_count": null,
   "metadata": {},
   "outputs": [],
   "source": [
    "ami_8km = AreaDefinition(ami_2km.area_id, '8km at nadir',  ami_2km.proj_id, ami_2km.proj_dict,\n",
    "                        ami_2km.x_size / 4, ami_2km.y_size / 4, ami_2km.area_extent)\n",
    "ami_8km"
   ]
  },
  {
   "cell_type": "code",
   "execution_count": null,
   "metadata": {},
   "outputs": [],
   "source": [
    "lscn = scn.resample(ami_8km)\n",
    "lscn.load(['true_color'])\n",
    "lscn.show('true_color')"
   ]
  },
  {
   "cell_type": "code",
   "execution_count": null,
   "metadata": {},
   "outputs": [],
   "source": [
    "ahi_files = glob(\"input/GK2A_AMI_L1B_FD/*\")\n",
    "scn = Scene(filenames = ahi_files, reader='ahi_hsd')\n",
    "dataset_names = scn.all_dataset_names()\n",
    "\n",
    "print(dataset_names)"
   ]
  },
  {
   "cell_type": "code",
   "execution_count": null,
   "metadata": {},
   "outputs": [],
   "source": [
    "abi1_files = glob(\"input/G16_ABI-L1b-RadF/*\")\n",
    "scn = Scene(filenames = abi1_files, reader='abi_l1b')\n",
    "\n",
    "dataset_names = scn.all_dataset_names()\n",
    "\n",
    "print(dataset_names)"
   ]
  },
  {
   "cell_type": "code",
   "execution_count": null,
   "metadata": {},
   "outputs": [],
   "source": []
  },
  {
   "cell_type": "code",
   "execution_count": null,
   "metadata": {},
   "outputs": [],
   "source": []
  },
  {
   "cell_type": "code",
   "execution_count": null,
   "metadata": {},
   "outputs": [],
   "source": []
  },
  {
   "cell_type": "code",
   "execution_count": null,
   "metadata": {},
   "outputs": [],
   "source": []
  },
  {
   "cell_type": "code",
   "execution_count": null,
   "metadata": {},
   "outputs": [],
   "source": []
  },
  {
   "cell_type": "code",
   "execution_count": null,
   "metadata": {},
   "outputs": [],
   "source": []
  },
  {
   "cell_type": "code",
   "execution_count": null,
   "metadata": {},
   "outputs": [],
   "source": []
  },
  {
   "cell_type": "code",
   "execution_count": null,
   "metadata": {},
   "outputs": [],
   "source": []
  }
 ],
 "metadata": {
  "kernelspec": {
   "display_name": "Python [conda env:pytroll]",
   "language": "python",
   "name": "conda-env-pytroll-py"
  },
  "language_info": {
   "codemirror_mode": {
    "name": "ipython",
    "version": 3
   },
   "file_extension": ".py",
   "mimetype": "text/x-python",
   "name": "python",
   "nbconvert_exporter": "python",
   "pygments_lexer": "ipython3",
   "version": "3.10.8"
  },
  "nbdime-conflicts": {
   "local_diff": [
    {
     "diff": [
      {
       "diff": [
        {
         "key": 0,
         "op": "addrange",
         "valuelist": [
          "Python 3"
         ]
        },
        {
         "key": 0,
         "length": 1,
         "op": "removerange"
        }
       ],
       "key": "display_name",
       "op": "patch"
      }
     ],
     "key": "kernelspec",
     "op": "patch"
    }
   ],
   "remote_diff": [
    {
     "diff": [
      {
       "diff": [
        {
         "key": 0,
         "op": "addrange",
         "valuelist": [
          "Python3"
         ]
        },
        {
         "key": 0,
         "length": 1,
         "op": "removerange"
        }
       ],
       "key": "display_name",
       "op": "patch"
      }
     ],
     "key": "kernelspec",
     "op": "patch"
    }
   ]
  },
  "toc-autonumbering": false
 },
 "nbformat": 4,
 "nbformat_minor": 4
}
